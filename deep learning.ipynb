{
 "cells": [
  {
   "cell_type": "markdown",
   "id": "382c197f",
   "metadata": {},
   "source": [
    "## Using CNN and transfer learning to differentiate the different types of lung carcinomas using ct scans. (Note : work in progress , for updated versions please go to my github account.\n",
    "\n",
    "This notebook attempted to do so using a basic 12 layered CNN and later applied transfer learning approaches with ResNet50 ,a very deep CNN model that has been pre trained using a massive image set called imagenet to try to imporve accuracy.\n",
    "The relevant packages are first imported.\n",
    "\n",
    "\n"
   ]
  },
  {
   "cell_type": "code",
   "execution_count": 1,
   "id": "19214118",
   "metadata": {
    "scrolled": true
   },
   "outputs": [
    {
     "name": "stdout",
     "output_type": "stream",
     "text": [
      "Requirement already satisfied: matplotlib in c:\\users\\alin\\anaconda3\\lib\\site-packages (3.5.2)\n",
      "Requirement already satisfied: fonttools>=4.22.0 in c:\\users\\alin\\anaconda3\\lib\\site-packages (from matplotlib) (4.25.0)\n",
      "Requirement already satisfied: cycler>=0.10 in c:\\users\\alin\\anaconda3\\lib\\site-packages (from matplotlib) (0.11.0)\n",
      "Requirement already satisfied: python-dateutil>=2.7 in c:\\users\\alin\\anaconda3\\lib\\site-packages (from matplotlib) (2.8.2)\n",
      "Requirement already satisfied: pillow>=6.2.0 in c:\\users\\alin\\anaconda3\\lib\\site-packages (from matplotlib) (9.2.0)\n",
      "Requirement already satisfied: pyparsing>=2.2.1 in c:\\users\\alin\\anaconda3\\lib\\site-packages (from matplotlib) (3.0.9)\n",
      "Requirement already satisfied: packaging>=20.0 in c:\\users\\alin\\anaconda3\\lib\\site-packages (from matplotlib) (21.3)\n",
      "Requirement already satisfied: numpy>=1.17 in c:\\users\\alin\\anaconda3\\lib\\site-packages (from matplotlib) (1.21.5)\n",
      "Requirement already satisfied: kiwisolver>=1.0.1 in c:\\users\\alin\\anaconda3\\lib\\site-packages (from matplotlib) (1.4.2)\n",
      "Requirement already satisfied: six>=1.5 in c:\\users\\alin\\anaconda3\\lib\\site-packages (from python-dateutil>=2.7->matplotlib) (1.16.0)\n",
      "Requirement already satisfied: seaborn in c:\\users\\alin\\anaconda3\\lib\\site-packages (0.11.2)\n",
      "Requirement already satisfied: numpy>=1.15 in c:\\users\\alin\\anaconda3\\lib\\site-packages (from seaborn) (1.21.5)\n",
      "Requirement already satisfied: matplotlib>=2.2 in c:\\users\\alin\\anaconda3\\lib\\site-packages (from seaborn) (3.5.2)\n",
      "Requirement already satisfied: scipy>=1.0 in c:\\users\\alin\\anaconda3\\lib\\site-packages (from seaborn) (1.9.1)\n",
      "Requirement already satisfied: pandas>=0.23 in c:\\users\\alin\\anaconda3\\lib\\site-packages (from seaborn) (1.4.4)\n",
      "Requirement already satisfied: fonttools>=4.22.0 in c:\\users\\alin\\anaconda3\\lib\\site-packages (from matplotlib>=2.2->seaborn) (4.25.0)\n",
      "Requirement already satisfied: cycler>=0.10 in c:\\users\\alin\\anaconda3\\lib\\site-packages (from matplotlib>=2.2->seaborn) (0.11.0)\n",
      "Requirement already satisfied: pillow>=6.2.0 in c:\\users\\alin\\anaconda3\\lib\\site-packages (from matplotlib>=2.2->seaborn) (9.2.0)\n",
      "Requirement already satisfied: pyparsing>=2.2.1 in c:\\users\\alin\\anaconda3\\lib\\site-packages (from matplotlib>=2.2->seaborn) (3.0.9)\n",
      "Requirement already satisfied: packaging>=20.0 in c:\\users\\alin\\anaconda3\\lib\\site-packages (from matplotlib>=2.2->seaborn) (21.3)\n",
      "Requirement already satisfied: python-dateutil>=2.7 in c:\\users\\alin\\anaconda3\\lib\\site-packages (from matplotlib>=2.2->seaborn) (2.8.2)\n",
      "Requirement already satisfied: kiwisolver>=1.0.1 in c:\\users\\alin\\anaconda3\\lib\\site-packages (from matplotlib>=2.2->seaborn) (1.4.2)\n",
      "Requirement already satisfied: pytz>=2020.1 in c:\\users\\alin\\anaconda3\\lib\\site-packages (from pandas>=0.23->seaborn) (2022.1)\n",
      "Requirement already satisfied: six>=1.5 in c:\\users\\alin\\anaconda3\\lib\\site-packages (from python-dateutil>=2.7->matplotlib>=2.2->seaborn) (1.16.0)\n",
      "Requirement already satisfied: scikit-learn in c:\\users\\alin\\anaconda3\\lib\\site-packages (1.0.2)\n",
      "Requirement already satisfied: numpy>=1.14.6 in c:\\users\\alin\\anaconda3\\lib\\site-packages (from scikit-learn) (1.21.5)\n",
      "Requirement already satisfied: joblib>=0.11 in c:\\users\\alin\\anaconda3\\lib\\site-packages (from scikit-learn) (1.1.0)\n",
      "Requirement already satisfied: scipy>=1.1.0 in c:\\users\\alin\\anaconda3\\lib\\site-packages (from scikit-learn) (1.9.1)\n",
      "Requirement already satisfied: threadpoolctl>=2.0.0 in c:\\users\\alin\\anaconda3\\lib\\site-packages (from scikit-learn) (2.2.0)\n"
     ]
    }
   ],
   "source": [
    "!pip install matplotlib\n",
    "!pip install seaborn\n",
    "!pip install scikit-learn\n"
   ]
  },
  {
   "cell_type": "code",
   "execution_count": 2,
   "id": "2405d16d",
   "metadata": {},
   "outputs": [
    {
     "name": "stdout",
     "output_type": "stream",
     "text": [
      "Requirement already satisfied: tensorflow-gpu in c:\\users\\alin\\anaconda3\\lib\\site-packages (2.10.1)\n",
      "Requirement already satisfied: astunparse>=1.6.0 in c:\\users\\alin\\anaconda3\\lib\\site-packages (from tensorflow-gpu) (1.6.3)\n",
      "Requirement already satisfied: setuptools in c:\\users\\alin\\anaconda3\\lib\\site-packages (from tensorflow-gpu) (63.4.1)\n",
      "Requirement already satisfied: typing-extensions>=3.6.6 in c:\\users\\alin\\anaconda3\\lib\\site-packages (from tensorflow-gpu) (4.3.0)\n",
      "Requirement already satisfied: tensorflow-estimator<2.11,>=2.10.0 in c:\\users\\alin\\anaconda3\\lib\\site-packages (from tensorflow-gpu) (2.10.0)\n",
      "Requirement already satisfied: tensorboard<2.11,>=2.10 in c:\\users\\alin\\anaconda3\\lib\\site-packages (from tensorflow-gpu) (2.10.1)\n",
      "Requirement already satisfied: wrapt>=1.11.0 in c:\\users\\alin\\anaconda3\\lib\\site-packages (from tensorflow-gpu) (1.14.1)\n",
      "Requirement already satisfied: absl-py>=1.0.0 in c:\\users\\alin\\anaconda3\\lib\\site-packages (from tensorflow-gpu) (1.3.0)\n",
      "Requirement already satisfied: google-pasta>=0.1.1 in c:\\users\\alin\\anaconda3\\lib\\site-packages (from tensorflow-gpu) (0.2.0)\n",
      "Requirement already satisfied: opt-einsum>=2.3.2 in c:\\users\\alin\\anaconda3\\lib\\site-packages (from tensorflow-gpu) (3.3.0)\n",
      "Requirement already satisfied: gast<=0.4.0,>=0.2.1 in c:\\users\\alin\\anaconda3\\lib\\site-packages (from tensorflow-gpu) (0.4.0)\n",
      "Requirement already satisfied: six>=1.12.0 in c:\\users\\alin\\anaconda3\\lib\\site-packages (from tensorflow-gpu) (1.16.0)\n",
      "Requirement already satisfied: protobuf<3.20,>=3.9.2 in c:\\users\\alin\\anaconda3\\lib\\site-packages (from tensorflow-gpu) (3.19.6)\n",
      "Requirement already satisfied: grpcio<2.0,>=1.24.3 in c:\\users\\alin\\anaconda3\\lib\\site-packages (from tensorflow-gpu) (1.51.1)\n",
      "Requirement already satisfied: tensorflow-io-gcs-filesystem>=0.23.1 in c:\\users\\alin\\anaconda3\\lib\\site-packages (from tensorflow-gpu) (0.29.0)\n",
      "Requirement already satisfied: numpy>=1.20 in c:\\users\\alin\\anaconda3\\lib\\site-packages (from tensorflow-gpu) (1.21.5)\n",
      "Requirement already satisfied: h5py>=2.9.0 in c:\\users\\alin\\anaconda3\\lib\\site-packages (from tensorflow-gpu) (3.7.0)\n",
      "Requirement already satisfied: termcolor>=1.1.0 in c:\\users\\alin\\anaconda3\\lib\\site-packages (from tensorflow-gpu) (2.1.1)\n",
      "Requirement already satisfied: keras<2.11,>=2.10.0 in c:\\users\\alin\\anaconda3\\lib\\site-packages (from tensorflow-gpu) (2.10.0)\n",
      "Requirement already satisfied: flatbuffers>=2.0 in c:\\users\\alin\\anaconda3\\lib\\site-packages (from tensorflow-gpu) (22.12.6)\n",
      "Requirement already satisfied: libclang>=13.0.0 in c:\\users\\alin\\anaconda3\\lib\\site-packages (from tensorflow-gpu) (14.0.6)\n",
      "Requirement already satisfied: packaging in c:\\users\\alin\\anaconda3\\lib\\site-packages (from tensorflow-gpu) (21.3)\n",
      "Requirement already satisfied: keras-preprocessing>=1.1.1 in c:\\users\\alin\\anaconda3\\lib\\site-packages (from tensorflow-gpu) (1.1.2)\n",
      "Requirement already satisfied: wheel<1.0,>=0.23.0 in c:\\users\\alin\\anaconda3\\lib\\site-packages (from astunparse>=1.6.0->tensorflow-gpu) (0.37.1)\n",
      "Requirement already satisfied: google-auth-oauthlib<0.5,>=0.4.1 in c:\\users\\alin\\anaconda3\\lib\\site-packages (from tensorboard<2.11,>=2.10->tensorflow-gpu) (0.4.6)\n",
      "Requirement already satisfied: tensorboard-data-server<0.7.0,>=0.6.0 in c:\\users\\alin\\anaconda3\\lib\\site-packages (from tensorboard<2.11,>=2.10->tensorflow-gpu) (0.6.1)\n",
      "Requirement already satisfied: markdown>=2.6.8 in c:\\users\\alin\\anaconda3\\lib\\site-packages (from tensorboard<2.11,>=2.10->tensorflow-gpu) (3.3.4)\n",
      "Requirement already satisfied: werkzeug>=1.0.1 in c:\\users\\alin\\anaconda3\\lib\\site-packages (from tensorboard<2.11,>=2.10->tensorflow-gpu) (2.0.3)\n",
      "Requirement already satisfied: google-auth<3,>=1.6.3 in c:\\users\\alin\\anaconda3\\lib\\site-packages (from tensorboard<2.11,>=2.10->tensorflow-gpu) (2.15.0)\n",
      "Requirement already satisfied: tensorboard-plugin-wit>=1.6.0 in c:\\users\\alin\\anaconda3\\lib\\site-packages (from tensorboard<2.11,>=2.10->tensorflow-gpu) (1.8.1)\n",
      "Requirement already satisfied: requests<3,>=2.21.0 in c:\\users\\alin\\anaconda3\\lib\\site-packages (from tensorboard<2.11,>=2.10->tensorflow-gpu) (2.28.1)\n",
      "Requirement already satisfied: pyparsing!=3.0.5,>=2.0.2 in c:\\users\\alin\\anaconda3\\lib\\site-packages (from packaging->tensorflow-gpu) (3.0.9)\n",
      "Requirement already satisfied: pyasn1-modules>=0.2.1 in c:\\users\\alin\\anaconda3\\lib\\site-packages (from google-auth<3,>=1.6.3->tensorboard<2.11,>=2.10->tensorflow-gpu) (0.2.8)\n",
      "Requirement already satisfied: rsa<5,>=3.1.4 in c:\\users\\alin\\anaconda3\\lib\\site-packages (from google-auth<3,>=1.6.3->tensorboard<2.11,>=2.10->tensorflow-gpu) (4.9)\n",
      "Requirement already satisfied: cachetools<6.0,>=2.0.0 in c:\\users\\alin\\anaconda3\\lib\\site-packages (from google-auth<3,>=1.6.3->tensorboard<2.11,>=2.10->tensorflow-gpu) (5.2.0)\n",
      "Requirement already satisfied: requests-oauthlib>=0.7.0 in c:\\users\\alin\\anaconda3\\lib\\site-packages (from google-auth-oauthlib<0.5,>=0.4.1->tensorboard<2.11,>=2.10->tensorflow-gpu) (1.3.1)\n",
      "Requirement already satisfied: idna<4,>=2.5 in c:\\users\\alin\\anaconda3\\lib\\site-packages (from requests<3,>=2.21.0->tensorboard<2.11,>=2.10->tensorflow-gpu) (3.3)\n",
      "Requirement already satisfied: charset-normalizer<3,>=2 in c:\\users\\alin\\anaconda3\\lib\\site-packages (from requests<3,>=2.21.0->tensorboard<2.11,>=2.10->tensorflow-gpu) (2.0.4)\n",
      "Requirement already satisfied: certifi>=2017.4.17 in c:\\users\\alin\\anaconda3\\lib\\site-packages (from requests<3,>=2.21.0->tensorboard<2.11,>=2.10->tensorflow-gpu) (2022.9.14)\n",
      "Requirement already satisfied: urllib3<1.27,>=1.21.1 in c:\\users\\alin\\anaconda3\\lib\\site-packages (from requests<3,>=2.21.0->tensorboard<2.11,>=2.10->tensorflow-gpu) (1.26.11)\n",
      "Requirement already satisfied: pyasn1<0.5.0,>=0.4.6 in c:\\users\\alin\\anaconda3\\lib\\site-packages (from pyasn1-modules>=0.2.1->google-auth<3,>=1.6.3->tensorboard<2.11,>=2.10->tensorflow-gpu) (0.4.8)\n",
      "Requirement already satisfied: oauthlib>=3.0.0 in c:\\users\\alin\\anaconda3\\lib\\site-packages (from requests-oauthlib>=0.7.0->google-auth-oauthlib<0.5,>=0.4.1->tensorboard<2.11,>=2.10->tensorflow-gpu) (3.2.2)\n",
      "Note: you may need to restart the kernel to use updated packages.\n"
     ]
    }
   ],
   "source": [
    "pip install tensorflow-gpu"
   ]
  },
  {
   "cell_type": "code",
   "execution_count": 3,
   "id": "b0f1aa60",
   "metadata": {},
   "outputs": [
    {
     "name": "stdout",
     "output_type": "stream",
     "text": [
      "[name: \"/device:CPU:0\"\n",
      "device_type: \"CPU\"\n",
      "memory_limit: 268435456\n",
      "locality {\n",
      "}\n",
      "incarnation: 15917538996060924120\n",
      "xla_global_id: -1\n",
      ", name: \"/device:GPU:0\"\n",
      "device_type: \"GPU\"\n",
      "memory_limit: 2909221684\n",
      "locality {\n",
      "  bus_id: 1\n",
      "  links {\n",
      "  }\n",
      "}\n",
      "incarnation: 8509560231400311080\n",
      "physical_device_desc: \"device: 0, name: NVIDIA GeForce GTX 1050 Ti, pci bus id: 0000:01:00.0, compute capability: 6.1\"\n",
      "xla_global_id: 416903419\n",
      "]\n"
     ]
    }
   ],
   "source": [
    "import tensorflow as tf\n",
    "from tensorflow.python.client import device_lib\n",
    "print(device_lib.list_local_devices())\n",
    "\n"
   ]
  },
  {
   "cell_type": "code",
   "execution_count": 4,
   "id": "64786a26",
   "metadata": {},
   "outputs": [],
   "source": [
    "import numpy as np\n",
    "import pandas as pd\n",
    "import matplotlib.pyplot as plt\n",
    "import seaborn as sns\n",
    "from sklearn.model_selection import train_test_split,GridSearchCV\n",
    "from sklearn.preprocessing import StandardScaler\n",
    "from sklearn.metrics import confusion_matrix,precision_recall_curve,roc_auc_score,roc_curve,accuracy_score\n",
    "\n"
   ]
  },
  {
   "cell_type": "code",
   "execution_count": 5,
   "id": "9db588a0",
   "metadata": {},
   "outputs": [],
   "source": [
    "from tensorflow import keras\n",
    "from tensorflow.keras.preprocessing import image\n",
    "from tensorflow.keras.preprocessing.image import ImageDataGenerator\n",
    "from tensorflow.keras.models import Sequential\n",
    "from tensorflow.keras.layers import Dense,Dropout,Activation, Flatten\n",
    "from tensorflow.keras.layers import Conv2D, MaxPooling2D\n"
   ]
  },
  {
   "cell_type": "code",
   "execution_count": 6,
   "id": "012327fd",
   "metadata": {},
   "outputs": [],
   "source": [
    "train_set= (r'C:\\Users\\Alin\\Documents\\Data samples\\ct scans chest\\Data\\train')\n",
    "test_set=(r'C:\\Users\\Alin\\Documents\\Data samples\\ct scans chest\\Data\\test')\n",
    "val_set= (r'C:\\Users\\Alin\\Documents\\Data samples\\ct scans chest\\Data\\valid')\n",
    "\n"
   ]
  },
  {
   "cell_type": "markdown",
   "id": "f409ce44",
   "metadata": {},
   "source": []
  },
  {
   "cell_type": "code",
   "execution_count": 7,
   "id": "f66cfe1f",
   "metadata": {},
   "outputs": [],
   "source": [
    "\n",
    "train_datagen = image.ImageDataGenerator(rotation_range=15,shear_range=0.2,zoom_range=0.2,horizontal_flip=True,fill_mode='nearest',width_shift_range=0.1,height_shift_range=0.1)\n",
    "val_datagen= image.ImageDataGenerator(rotation_range=15,shear_range=0.2,zoom_range=0.2,horizontal_flip=True,fill_mode='nearest',width_shift_range=0.1,height_shift_range=0.1)\n",
    "test_datagen= image.ImageDataGenerator(rotation_range=15,shear_range=0.2,zoom_range=0.2,horizontal_flip=True,fill_mode='nearest',width_shift_range=0.1,height_shift_range=0.1)\n",
    "\n"
   ]
  },
  {
   "cell_type": "code",
   "execution_count": 8,
   "id": "66e73398",
   "metadata": {},
   "outputs": [
    {
     "name": "stdout",
     "output_type": "stream",
     "text": [
      "Found 613 images belonging to 4 classes.\n",
      "Found 315 images belonging to 4 classes.\n",
      "Found 72 images belonging to 4 classes.\n"
     ]
    }
   ],
   "source": [
    "train_generator = train_datagen.flow_from_directory(train_set,batch_size =128 ,class_mode = 'categorical')\n",
    "test_generator = test_datagen.flow_from_directory(test_set,shuffle=True,batch_size =128 ,class_mode = 'categorical')\n",
    "validation_generator = test_datagen.flow_from_directory(val_set,shuffle=True,batch_size =128 ,class_mode = 'categorical')"
   ]
  },
  {
   "cell_type": "code",
   "execution_count": 9,
   "id": "6f5a4f25",
   "metadata": {},
   "outputs": [
    {
     "data": {
      "text/plain": [
       "{'adenocarcinoma_left.lower.lobe_T2_N0_M0_Ib': 0,\n",
       " 'large.cell.carcinoma_left.hilum_T2_N2_M0_IIIa': 1,\n",
       " 'normal': 2,\n",
       " 'squamous.cell.carcinoma_left.hilum_T1_N2_M0_IIIa': 3}"
      ]
     },
     "execution_count": 9,
     "metadata": {},
     "output_type": "execute_result"
    }
   ],
   "source": [
    "train_generator.class_indices"
   ]
  },
  {
   "cell_type": "code",
   "execution_count": 10,
   "id": "22105e13",
   "metadata": {},
   "outputs": [
    {
     "data": {
      "text/plain": [
       "{'adenocarcinoma': 0,\n",
       " 'large.cell.carcinoma': 1,\n",
       " 'normal': 2,\n",
       " 'squamous.cell.carcinoma': 3}"
      ]
     },
     "execution_count": 10,
     "metadata": {},
     "output_type": "execute_result"
    }
   ],
   "source": [
    "test_generator.class_indices"
   ]
  },
  {
   "cell_type": "code",
   "execution_count": 11,
   "id": "f3fd0b47",
   "metadata": {
    "scrolled": true
   },
   "outputs": [
    {
     "data": {
      "text/plain": [
       "{'adenocarcinoma_left.lower.lobe_T2_N0_M0_Ib': 0,\n",
       " 'large.cell.carcinoma_left.hilum_T2_N2_M0_IIIa': 1,\n",
       " 'normal': 2,\n",
       " 'squamous.cell.carcinoma_left.hilum_T1_N2_M0_IIIa': 3}"
      ]
     },
     "execution_count": 11,
     "metadata": {},
     "output_type": "execute_result"
    }
   ],
   "source": [
    "validation_generator.class_indices"
   ]
  },
  {
   "cell_type": "markdown",
   "id": "7c564cbc",
   "metadata": {},
   "source": [
    "next function is used to split the data into x and y variables."
   ]
  },
  {
   "cell_type": "code",
   "execution_count": 12,
   "id": "f20ccddf",
   "metadata": {},
   "outputs": [],
   "source": [
    "x_train, y_train = next(train_generator)\n",
    "x_val,y_val= next(validation_generator)\n",
    "x_test, y_test = next(test_generator)"
   ]
  },
  {
   "cell_type": "code",
   "execution_count": 13,
   "id": "2fa75e3b",
   "metadata": {},
   "outputs": [
    {
     "data": {
      "text/plain": [
       "array([[1., 0., 0., 0.],\n",
       "       [1., 0., 0., 0.],\n",
       "       [0., 0., 1., 0.],\n",
       "       [1., 0., 0., 0.],\n",
       "       [0., 0., 1., 0.],\n",
       "       [1., 0., 0., 0.],\n",
       "       [0., 1., 0., 0.],\n",
       "       [0., 0., 0., 1.],\n",
       "       [0., 0., 0., 1.],\n",
       "       [0., 1., 0., 0.],\n",
       "       [0., 0., 1., 0.],\n",
       "       [1., 0., 0., 0.],\n",
       "       [1., 0., 0., 0.],\n",
       "       [1., 0., 0., 0.],\n",
       "       [0., 0., 0., 1.],\n",
       "       [0., 1., 0., 0.],\n",
       "       [1., 0., 0., 0.],\n",
       "       [1., 0., 0., 0.],\n",
       "       [0., 0., 1., 0.],\n",
       "       [1., 0., 0., 0.],\n",
       "       [0., 0., 0., 1.],\n",
       "       [0., 0., 1., 0.],\n",
       "       [1., 0., 0., 0.],\n",
       "       [0., 0., 0., 1.],\n",
       "       [0., 0., 0., 1.],\n",
       "       [1., 0., 0., 0.],\n",
       "       [1., 0., 0., 0.],\n",
       "       [0., 1., 0., 0.],\n",
       "       [1., 0., 0., 0.],\n",
       "       [0., 1., 0., 0.],\n",
       "       [1., 0., 0., 0.],\n",
       "       [0., 0., 0., 1.],\n",
       "       [0., 0., 1., 0.],\n",
       "       [0., 0., 0., 1.],\n",
       "       [0., 0., 0., 1.],\n",
       "       [1., 0., 0., 0.],\n",
       "       [1., 0., 0., 0.],\n",
       "       [1., 0., 0., 0.],\n",
       "       [0., 0., 1., 0.],\n",
       "       [1., 0., 0., 0.],\n",
       "       [0., 0., 0., 1.],\n",
       "       [1., 0., 0., 0.],\n",
       "       [0., 0., 1., 0.],\n",
       "       [1., 0., 0., 0.],\n",
       "       [0., 0., 1., 0.],\n",
       "       [0., 0., 0., 1.],\n",
       "       [0., 0., 0., 1.],\n",
       "       [0., 1., 0., 0.],\n",
       "       [1., 0., 0., 0.],\n",
       "       [0., 0., 0., 1.],\n",
       "       [0., 0., 1., 0.],\n",
       "       [1., 0., 0., 0.],\n",
       "       [0., 1., 0., 0.],\n",
       "       [0., 0., 1., 0.],\n",
       "       [0., 0., 0., 1.],\n",
       "       [0., 1., 0., 0.],\n",
       "       [0., 1., 0., 0.],\n",
       "       [0., 0., 1., 0.],\n",
       "       [1., 0., 0., 0.],\n",
       "       [0., 1., 0., 0.],\n",
       "       [0., 0., 1., 0.],\n",
       "       [1., 0., 0., 0.],\n",
       "       [0., 0., 0., 1.],\n",
       "       [0., 1., 0., 0.],\n",
       "       [1., 0., 0., 0.],\n",
       "       [0., 1., 0., 0.],\n",
       "       [1., 0., 0., 0.],\n",
       "       [1., 0., 0., 0.],\n",
       "       [0., 0., 1., 0.],\n",
       "       [0., 1., 0., 0.],\n",
       "       [0., 1., 0., 0.],\n",
       "       [0., 1., 0., 0.],\n",
       "       [0., 1., 0., 0.],\n",
       "       [0., 1., 0., 0.],\n",
       "       [0., 0., 1., 0.],\n",
       "       [1., 0., 0., 0.],\n",
       "       [0., 0., 1., 0.],\n",
       "       [1., 0., 0., 0.],\n",
       "       [0., 0., 1., 0.],\n",
       "       [1., 0., 0., 0.],\n",
       "       [0., 1., 0., 0.],\n",
       "       [1., 0., 0., 0.],\n",
       "       [1., 0., 0., 0.],\n",
       "       [1., 0., 0., 0.],\n",
       "       [0., 0., 0., 1.],\n",
       "       [0., 0., 0., 1.],\n",
       "       [0., 0., 0., 1.],\n",
       "       [1., 0., 0., 0.],\n",
       "       [0., 0., 1., 0.],\n",
       "       [1., 0., 0., 0.],\n",
       "       [1., 0., 0., 0.],\n",
       "       [0., 0., 1., 0.],\n",
       "       [0., 0., 1., 0.],\n",
       "       [0., 1., 0., 0.],\n",
       "       [1., 0., 0., 0.],\n",
       "       [1., 0., 0., 0.],\n",
       "       [0., 0., 0., 1.],\n",
       "       [0., 0., 1., 0.],\n",
       "       [0., 0., 1., 0.],\n",
       "       [0., 0., 1., 0.],\n",
       "       [0., 0., 0., 1.],\n",
       "       [1., 0., 0., 0.],\n",
       "       [0., 1., 0., 0.],\n",
       "       [1., 0., 0., 0.],\n",
       "       [1., 0., 0., 0.],\n",
       "       [1., 0., 0., 0.],\n",
       "       [0., 0., 1., 0.],\n",
       "       [0., 0., 0., 1.],\n",
       "       [0., 1., 0., 0.],\n",
       "       [0., 0., 1., 0.],\n",
       "       [0., 0., 0., 1.],\n",
       "       [1., 0., 0., 0.],\n",
       "       [0., 1., 0., 0.],\n",
       "       [0., 0., 1., 0.],\n",
       "       [1., 0., 0., 0.],\n",
       "       [0., 0., 0., 1.],\n",
       "       [0., 0., 1., 0.],\n",
       "       [0., 0., 1., 0.],\n",
       "       [0., 1., 0., 0.],\n",
       "       [1., 0., 0., 0.],\n",
       "       [0., 1., 0., 0.],\n",
       "       [0., 1., 0., 0.],\n",
       "       [0., 0., 0., 1.],\n",
       "       [0., 0., 0., 1.],\n",
       "       [0., 0., 0., 1.],\n",
       "       [1., 0., 0., 0.],\n",
       "       [0., 1., 0., 0.],\n",
       "       [0., 1., 0., 0.]], dtype=float32)"
      ]
     },
     "execution_count": 13,
     "metadata": {},
     "output_type": "execute_result"
    }
   ],
   "source": [
    "y_train"
   ]
  },
  {
   "cell_type": "code",
   "execution_count": 14,
   "id": "c09bcc0e",
   "metadata": {},
   "outputs": [],
   "source": [
    "x_train.shape [1:]\n",
    "num_class=4"
   ]
  },
  {
   "cell_type": "markdown",
   "id": "2b20fa18",
   "metadata": {},
   "source": [
    "Basic 2 layers of conv2d, for a baseline accuracy value."
   ]
  },
  {
   "cell_type": "code",
   "execution_count": 15,
   "id": "20ba78f4",
   "metadata": {},
   "outputs": [
    {
     "name": "stdout",
     "output_type": "stream",
     "text": [
      "Model: \"sequential\"\n",
      "_________________________________________________________________\n",
      " Layer (type)                Output Shape              Param #   \n",
      "=================================================================\n",
      " conv2d (Conv2D)             (None, 64, 64, 256)       691456    \n",
      "                                                                 \n",
      " activation (Activation)     (None, 64, 64, 256)       0         \n",
      "                                                                 \n",
      " conv2d_1 (Conv2D)           (None, 9, 9, 256)         58982656  \n",
      "                                                                 \n",
      " activation_1 (Activation)   (None, 9, 9, 256)         0         \n",
      "                                                                 \n",
      " max_pooling2d (MaxPooling2D  (None, 2, 2, 256)        0         \n",
      " )                                                               \n",
      "                                                                 \n",
      " dropout (Dropout)           (None, 2, 2, 256)         0         \n",
      "                                                                 \n",
      " flatten (Flatten)           (None, 1024)              0         \n",
      "                                                                 \n",
      " dense (Dense)               (None, 512)               524800    \n",
      "                                                                 \n",
      " activation_2 (Activation)   (None, 512)               0         \n",
      "                                                                 \n",
      " dropout_1 (Dropout)         (None, 512)               0         \n",
      "                                                                 \n",
      " dense_1 (Dense)             (None, 4)                 2052      \n",
      "                                                                 \n",
      " activation_3 (Activation)   (None, 4)                 0         \n",
      "                                                                 \n",
      "=================================================================\n",
      "Total params: 60,200,964\n",
      "Trainable params: 60,200,964\n",
      "Non-trainable params: 0\n",
      "_________________________________________________________________\n"
     ]
    }
   ],
   "source": [
    "model1 = Sequential()\n",
    "model1.add(Conv2D(256,(5,5), strides =(2,2), padding='same',input_shape= x_train.shape[1:]))\n",
    "model1.add(Activation('relu'))\n",
    "model1.add(Conv2D(256,(5,5), strides =(4,4)))\n",
    "model1.add(Activation('relu'))\n",
    "model1.add(MaxPooling2D(pool_size=(4,4)))\n",
    "model1.add(Dropout(0.25))\n",
    "model1.add(Flatten())\n",
    "model1.add(Dense(512))\n",
    "model1.add(Activation('relu'))\n",
    "model1.add(Dropout(0.5))\n",
    "model1.add(Dense(num_class))\n",
    "model1.add(Activation('softmax'))\n",
    "\n",
    "model1.summary()"
   ]
  },
  {
   "cell_type": "code",
   "execution_count": 16,
   "id": "1ecdf8d8",
   "metadata": {},
   "outputs": [
    {
     "name": "stdout",
     "output_type": "stream",
     "text": [
      "Epoch 1/15\n",
      "4/4 [==============================] - 34s 2s/step - loss: 15535.2998 - accuracy: 0.3516 - val_loss: 6.0475 - val_accuracy: 0.2500\n",
      "Epoch 2/15\n",
      "4/4 [==============================] - 6s 1s/step - loss: 3.5041 - accuracy: 0.2891 - val_loss: 1.4553 - val_accuracy: 0.2917\n",
      "Epoch 3/15\n",
      "4/4 [==============================] - 6s 1s/step - loss: 1.5762 - accuracy: 0.4141 - val_loss: 1.3313 - val_accuracy: 0.2778\n",
      "Epoch 4/15\n",
      "4/4 [==============================] - 6s 1s/step - loss: 1.1032 - accuracy: 0.5703 - val_loss: 1.3791 - val_accuracy: 0.4444\n",
      "Epoch 5/15\n",
      "4/4 [==============================] - 6s 1s/step - loss: 1.4173 - accuracy: 0.5156 - val_loss: 1.4496 - val_accuracy: 0.3889\n",
      "Epoch 6/15\n",
      "4/4 [==============================] - 6s 1s/step - loss: 1.0314 - accuracy: 0.6094 - val_loss: 1.3701 - val_accuracy: 0.4167\n",
      "Epoch 7/15\n",
      "4/4 [==============================] - 6s 1s/step - loss: 0.8257 - accuracy: 0.6797 - val_loss: 1.2820 - val_accuracy: 0.4583\n",
      "Epoch 8/15\n",
      "4/4 [==============================] - 6s 1s/step - loss: 0.8327 - accuracy: 0.6875 - val_loss: 1.5480 - val_accuracy: 0.4028\n",
      "Epoch 9/15\n",
      "4/4 [==============================] - 6s 2s/step - loss: 0.8383 - accuracy: 0.6953 - val_loss: 1.6166 - val_accuracy: 0.4028\n",
      "Epoch 10/15\n",
      "4/4 [==============================] - 6s 1s/step - loss: 0.7023 - accuracy: 0.7578 - val_loss: 1.2822 - val_accuracy: 0.3611\n",
      "Epoch 11/15\n",
      "4/4 [==============================] - 6s 1s/step - loss: 0.6046 - accuracy: 0.8203 - val_loss: 16.7444 - val_accuracy: 0.3472\n",
      "Epoch 12/15\n",
      "4/4 [==============================] - 6s 1s/step - loss: 22.9975 - accuracy: 0.4844 - val_loss: 6.7487 - val_accuracy: 0.3194\n",
      "Epoch 13/15\n",
      "4/4 [==============================] - 6s 1s/step - loss: 26.2512 - accuracy: 0.3906 - val_loss: 4.8067 - val_accuracy: 0.3472\n",
      "Epoch 14/15\n",
      "4/4 [==============================] - 6s 1s/step - loss: 8.1141 - accuracy: 0.5547 - val_loss: 1.6125 - val_accuracy: 0.3611\n",
      "Epoch 15/15\n",
      "4/4 [==============================] - 6s 1s/step - loss: 0.6604 - accuracy: 0.7500 - val_loss: 1.9481 - val_accuracy: 0.4167\n"
     ]
    },
    {
     "data": {
      "text/plain": [
       "<keras.callbacks.History at 0x22ece9bdd30>"
      ]
     },
     "execution_count": 16,
     "metadata": {},
     "output_type": "execute_result"
    }
   ],
   "source": [
    "\n",
    "opt = keras.optimizers.RMSprop(learning_rate=0.0005)\n",
    "model1.compile(loss ='categorical_crossentropy',optimizer =opt,metrics=['accuracy'])\n",
    "\n",
    "\n",
    "model1.fit(x_train,y_train, epochs =15, validation_data=(x_val,y_val),shuffle= True)"
   ]
  },
  {
   "cell_type": "code",
   "execution_count": 17,
   "id": "085c950d",
   "metadata": {},
   "outputs": [
    {
     "name": "stdout",
     "output_type": "stream",
     "text": [
      "4/4 [==============================] - 1s 390ms/step\n"
     ]
    }
   ],
   "source": [
    "predict_x=model1.predict(x_test)"
   ]
  },
  {
   "cell_type": "code",
   "execution_count": 18,
   "id": "ddfdaf4f",
   "metadata": {},
   "outputs": [
    {
     "data": {
      "text/plain": [
       "array([3, 3, 3, 3, 0, 3, 0, 0, 0, 3, 0, 3, 0, 3, 3, 3, 3, 0, 3, 0, 0, 0,\n",
       "       3, 3, 0, 2, 3, 3, 3, 0, 0, 3, 0, 0, 3, 3, 0, 3, 3, 3, 3, 1, 0, 0,\n",
       "       0, 0, 2, 3, 0, 0, 3, 0, 0, 3, 3, 0, 3, 1, 3, 3, 0, 0, 3, 0, 0, 0,\n",
       "       3, 0, 0, 3, 3, 3, 1, 1, 0, 3, 0, 0, 0, 0, 0, 3, 3, 2, 1, 3, 3, 0,\n",
       "       0, 0, 3, 3, 3, 0, 3, 0, 3, 3, 0, 0, 3, 3, 3, 0, 3, 3, 3, 3, 1, 0,\n",
       "       3, 3, 3, 0, 0, 0, 0, 0, 1, 3, 2, 3, 2, 3, 3, 0, 0, 0], dtype=int64)"
      ]
     },
     "execution_count": 18,
     "metadata": {},
     "output_type": "execute_result"
    }
   ],
   "source": [
    "classes_x=np.argmax(predict_x,axis=1)\n",
    "classes_x"
   ]
  },
  {
   "cell_type": "code",
   "execution_count": 19,
   "id": "2bd562ad",
   "metadata": {},
   "outputs": [
    {
     "data": {
      "text/plain": [
       "array([3, 0, 0, 0, 3, 0, 0, 0, 0, 0, 1, 0, 1, 3, 0, 0, 3, 3, 3, 2, 1, 1,\n",
       "       2, 3, 2, 2, 3, 1, 3, 3, 1, 2, 1, 0, 0, 2, 3, 1, 0, 0, 3, 0, 3, 0,\n",
       "       3, 2, 2, 0, 0, 0, 3, 0, 1, 0, 3, 0, 1, 3, 1, 0, 0, 0, 3, 2, 0, 3,\n",
       "       0, 3, 2, 1, 1, 2, 2, 1, 0, 0, 2, 0, 0, 0, 0, 0, 2, 0, 3, 3, 3, 1,\n",
       "       3, 0, 0, 0, 1, 0, 3, 0, 1, 2, 0, 2, 3, 0, 1, 2, 1, 0, 1, 3, 3, 0,\n",
       "       0, 1, 0, 2, 0, 3, 1, 2, 1, 1, 2, 3, 2, 0, 3, 0, 2, 3], dtype=int64)"
      ]
     },
     "execution_count": 19,
     "metadata": {},
     "output_type": "execute_result"
    }
   ],
   "source": [
    "np.argmax(y_test,axis=1)"
   ]
  },
  {
   "cell_type": "code",
   "execution_count": 20,
   "id": "d9c4d657",
   "metadata": {},
   "outputs": [
    {
     "data": {
      "text/plain": [
       "0.375"
      ]
     },
     "execution_count": 20,
     "metadata": {},
     "output_type": "execute_result"
    }
   ],
   "source": [
    "accuracy_score (np.argmax(y_test,axis=1),classes_x)"
   ]
  },
  {
   "cell_type": "code",
   "execution_count": null,
   "id": "19dc0d0c",
   "metadata": {},
   "outputs": [],
   "source": []
  },
  {
   "cell_type": "markdown",
   "id": "2e6b071c",
   "metadata": {},
   "source": [
    "Transfer learning"
   ]
  },
  {
   "cell_type": "code",
   "execution_count": 21,
   "id": "3aa921de",
   "metadata": {
    "scrolled": true
   },
   "outputs": [
    {
     "name": "stdout",
     "output_type": "stream",
     "text": [
      "Model: \"sequential_1\"\n",
      "_________________________________________________________________\n",
      " Layer (type)                Output Shape              Param #   \n",
      "=================================================================\n",
      " resnet50 (Functional)       (None, 2048)              23587712  \n",
      "                                                                 \n",
      " dropout_2 (Dropout)         (None, 2048)              0         \n",
      "                                                                 \n",
      " flatten_1 (Flatten)         (None, 2048)              0         \n",
      "                                                                 \n",
      " dense_2 (Dense)             (None, 512)               1049088   \n",
      "                                                                 \n",
      " activation_4 (Activation)   (None, 512)               0         \n",
      "                                                                 \n",
      " dropout_3 (Dropout)         (None, 512)               0         \n",
      "                                                                 \n",
      " dense_3 (Dense)             (None, 4)                 2052      \n",
      "                                                                 \n",
      " activation_5 (Activation)   (None, 4)                 0         \n",
      "                                                                 \n",
      "=================================================================\n",
      "Total params: 24,638,852\n",
      "Trainable params: 1,051,140\n",
      "Non-trainable params: 23,587,712\n",
      "_________________________________________________________________\n"
     ]
    }
   ],
   "source": [
    "from tensorflow.keras.applications import ResNet50\n",
    "\n",
    "comb_model = Sequential()\n",
    "comb_model.add(ResNet50(include_top=False, pooling='avg', weights='imagenet'))\n",
    "\n",
    "comb_model.add(Dropout(0.25))\n",
    "comb_model.add(Flatten())\n",
    "comb_model.add(Dense(512))\n",
    "comb_model.add(Activation('relu'))\n",
    "comb_model.add(Dropout(0.5))\n",
    "comb_model.add(Dense(num_class))\n",
    "comb_model.add(Activation('softmax'))\n",
    "\n",
    "comb_model.layers[0].trainable = False\n",
    "\n",
    "comb_model.summary()"
   ]
  },
  {
   "cell_type": "code",
   "execution_count": 22,
   "id": "9e21d01f",
   "metadata": {},
   "outputs": [],
   "source": [
    "comb_model.compile(optimizer='adam', loss='categorical_crossentropy', metrics=['accuracy'])"
   ]
  },
  {
   "cell_type": "code",
   "execution_count": 23,
   "id": "4cc312a2",
   "metadata": {},
   "outputs": [
    {
     "name": "stdout",
     "output_type": "stream",
     "text": [
      "Epoch 1/15\n",
      "4/4 [==============================] - 6s 874ms/step - loss: 2.6755 - accuracy: 0.3281 - val_loss: 2.0195 - val_accuracy: 0.4722\n",
      "Epoch 2/15\n",
      "4/4 [==============================] - 2s 438ms/step - loss: 1.9276 - accuracy: 0.4922 - val_loss: 1.3028 - val_accuracy: 0.5000\n",
      "Epoch 3/15\n",
      "4/4 [==============================] - 2s 436ms/step - loss: 1.0601 - accuracy: 0.5625 - val_loss: 1.1557 - val_accuracy: 0.4722\n",
      "Epoch 4/15\n",
      "4/4 [==============================] - 2s 437ms/step - loss: 1.1018 - accuracy: 0.6250 - val_loss: 1.1945 - val_accuracy: 0.4861\n",
      "Epoch 5/15\n",
      "4/4 [==============================] - 2s 436ms/step - loss: 1.0196 - accuracy: 0.5859 - val_loss: 1.2558 - val_accuracy: 0.4306\n",
      "Epoch 6/15\n",
      "4/4 [==============================] - 2s 437ms/step - loss: 0.9025 - accuracy: 0.6328 - val_loss: 1.6835 - val_accuracy: 0.5000\n",
      "Epoch 7/15\n",
      "4/4 [==============================] - 2s 431ms/step - loss: 0.7829 - accuracy: 0.6797 - val_loss: 1.0897 - val_accuracy: 0.4306\n",
      "Epoch 8/15\n",
      "4/4 [==============================] - 2s 436ms/step - loss: 0.5832 - accuracy: 0.7188 - val_loss: 1.1440 - val_accuracy: 0.4028\n",
      "Epoch 9/15\n",
      "4/4 [==============================] - 2s 435ms/step - loss: 0.6080 - accuracy: 0.7500 - val_loss: 1.1714 - val_accuracy: 0.5278\n",
      "Epoch 10/15\n",
      "4/4 [==============================] - 2s 436ms/step - loss: 0.6023 - accuracy: 0.7422 - val_loss: 1.1076 - val_accuracy: 0.5556\n",
      "Epoch 11/15\n",
      "4/4 [==============================] - 2s 436ms/step - loss: 0.4576 - accuracy: 0.8047 - val_loss: 1.4088 - val_accuracy: 0.4583\n",
      "Epoch 12/15\n",
      "4/4 [==============================] - 2s 437ms/step - loss: 0.4710 - accuracy: 0.8359 - val_loss: 1.0939 - val_accuracy: 0.4583\n",
      "Epoch 13/15\n",
      "4/4 [==============================] - 2s 436ms/step - loss: 0.4158 - accuracy: 0.8438 - val_loss: 1.1432 - val_accuracy: 0.5417\n",
      "Epoch 14/15\n",
      "4/4 [==============================] - 2s 432ms/step - loss: 0.3046 - accuracy: 0.8750 - val_loss: 1.3035 - val_accuracy: 0.4722\n",
      "Epoch 15/15\n",
      "4/4 [==============================] - 2s 436ms/step - loss: 0.3508 - accuracy: 0.8984 - val_loss: 1.2389 - val_accuracy: 0.5278\n"
     ]
    },
    {
     "data": {
      "text/plain": [
       "<keras.callbacks.History at 0x22efc26e8e0>"
      ]
     },
     "execution_count": 23,
     "metadata": {},
     "output_type": "execute_result"
    }
   ],
   "source": [
    "comb_model.fit(x_train,y_train, epochs =15, validation_data=(x_val,y_val),shuffle= True)"
   ]
  },
  {
   "cell_type": "code",
   "execution_count": 24,
   "id": "a66e48bc",
   "metadata": {},
   "outputs": [
    {
     "name": "stdout",
     "output_type": "stream",
     "text": [
      "4/4 [==============================] - 2s 234ms/step\n"
     ]
    }
   ],
   "source": [
    "predict_x_comb=comb_model.predict(x_test)"
   ]
  },
  {
   "cell_type": "code",
   "execution_count": 25,
   "id": "236b7835",
   "metadata": {},
   "outputs": [
    {
     "data": {
      "text/plain": [
       "array([0, 0, 0, 0, 0, 0, 0, 0, 0, 0, 3, 0, 0, 0, 0, 0, 0, 0, 3, 2, 0, 0,\n",
       "       2, 0, 2, 2, 0, 0, 0, 0, 0, 2, 0, 0, 0, 2, 0, 0, 0, 0, 0, 0, 0, 0,\n",
       "       0, 2, 2, 0, 0, 0, 0, 0, 3, 0, 0, 0, 0, 0, 1, 0, 0, 0, 0, 2, 0, 0,\n",
       "       0, 0, 2, 0, 0, 2, 2, 0, 3, 0, 2, 0, 0, 0, 3, 0, 2, 3, 0, 3, 0, 0,\n",
       "       0, 0, 0, 0, 0, 0, 0, 0, 0, 2, 0, 2, 3, 0, 0, 2, 0, 0, 1, 3, 3, 0,\n",
       "       0, 3, 0, 2, 0, 0, 0, 2, 0, 0, 2, 0, 2, 3, 0, 0, 2, 3], dtype=int64)"
      ]
     },
     "execution_count": 25,
     "metadata": {},
     "output_type": "execute_result"
    }
   ],
   "source": [
    "classes_x_comb=np.argmax(predict_x_comb,axis=1)\n",
    "classes_x_comb"
   ]
  },
  {
   "cell_type": "code",
   "execution_count": 26,
   "id": "0b40c7e7",
   "metadata": {
    "scrolled": false
   },
   "outputs": [
    {
     "data": {
      "text/plain": [
       "0.59375"
      ]
     },
     "execution_count": 26,
     "metadata": {},
     "output_type": "execute_result"
    }
   ],
   "source": [
    "accuracy_score (np.argmax(y_test,axis=1),classes_x_comb)"
   ]
  },
  {
   "cell_type": "code",
   "execution_count": null,
   "id": "f7156b28",
   "metadata": {},
   "outputs": [],
   "source": []
  },
  {
   "cell_type": "markdown",
   "id": "8a9bf326",
   "metadata": {},
   "source": [
    "Training last few layer of resnet 50 to see if scores improve"
   ]
  },
  {
   "cell_type": "code",
   "execution_count": 29,
   "id": "83a1f6f1",
   "metadata": {},
   "outputs": [],
   "source": [
    "ResNet50 = ResNet50(include_top=False, pooling='avg', weights='imagenet')"
   ]
  },
  {
   "cell_type": "code",
   "execution_count": 30,
   "id": "126d1ee3",
   "metadata": {},
   "outputs": [],
   "source": [
    "ResNet50.trainable = False\n",
    "\n",
    "for layer in ResNet50.layers[-15:]:\n",
    "        layer.trainable = True"
   ]
  },
  {
   "cell_type": "code",
   "execution_count": 31,
   "id": "09b14d9c",
   "metadata": {},
   "outputs": [
    {
     "name": "stdout",
     "output_type": "stream",
     "text": [
      "0 input_2 - False\n",
      "1 conv1_pad - False\n",
      "2 conv1_conv - False\n",
      "3 conv1_bn - False\n",
      "4 conv1_relu - False\n",
      "5 pool1_pad - False\n",
      "6 pool1_pool - False\n",
      "7 conv2_block1_1_conv - False\n",
      "8 conv2_block1_1_bn - False\n",
      "9 conv2_block1_1_relu - False\n",
      "10 conv2_block1_2_conv - False\n",
      "11 conv2_block1_2_bn - False\n",
      "12 conv2_block1_2_relu - False\n",
      "13 conv2_block1_0_conv - False\n",
      "14 conv2_block1_3_conv - False\n",
      "15 conv2_block1_0_bn - False\n",
      "16 conv2_block1_3_bn - False\n",
      "17 conv2_block1_add - False\n",
      "18 conv2_block1_out - False\n",
      "19 conv2_block2_1_conv - False\n",
      "20 conv2_block2_1_bn - False\n",
      "21 conv2_block2_1_relu - False\n",
      "22 conv2_block2_2_conv - False\n",
      "23 conv2_block2_2_bn - False\n",
      "24 conv2_block2_2_relu - False\n",
      "25 conv2_block2_3_conv - False\n",
      "26 conv2_block2_3_bn - False\n",
      "27 conv2_block2_add - False\n",
      "28 conv2_block2_out - False\n",
      "29 conv2_block3_1_conv - False\n",
      "30 conv2_block3_1_bn - False\n",
      "31 conv2_block3_1_relu - False\n",
      "32 conv2_block3_2_conv - False\n",
      "33 conv2_block3_2_bn - False\n",
      "34 conv2_block3_2_relu - False\n",
      "35 conv2_block3_3_conv - False\n",
      "36 conv2_block3_3_bn - False\n",
      "37 conv2_block3_add - False\n",
      "38 conv2_block3_out - False\n",
      "39 conv3_block1_1_conv - False\n",
      "40 conv3_block1_1_bn - False\n",
      "41 conv3_block1_1_relu - False\n",
      "42 conv3_block1_2_conv - False\n",
      "43 conv3_block1_2_bn - False\n",
      "44 conv3_block1_2_relu - False\n",
      "45 conv3_block1_0_conv - False\n",
      "46 conv3_block1_3_conv - False\n",
      "47 conv3_block1_0_bn - False\n",
      "48 conv3_block1_3_bn - False\n",
      "49 conv3_block1_add - False\n",
      "50 conv3_block1_out - False\n",
      "51 conv3_block2_1_conv - False\n",
      "52 conv3_block2_1_bn - False\n",
      "53 conv3_block2_1_relu - False\n",
      "54 conv3_block2_2_conv - False\n",
      "55 conv3_block2_2_bn - False\n",
      "56 conv3_block2_2_relu - False\n",
      "57 conv3_block2_3_conv - False\n",
      "58 conv3_block2_3_bn - False\n",
      "59 conv3_block2_add - False\n",
      "60 conv3_block2_out - False\n",
      "61 conv3_block3_1_conv - False\n",
      "62 conv3_block3_1_bn - False\n",
      "63 conv3_block3_1_relu - False\n",
      "64 conv3_block3_2_conv - False\n",
      "65 conv3_block3_2_bn - False\n",
      "66 conv3_block3_2_relu - False\n",
      "67 conv3_block3_3_conv - False\n",
      "68 conv3_block3_3_bn - False\n",
      "69 conv3_block3_add - False\n",
      "70 conv3_block3_out - False\n",
      "71 conv3_block4_1_conv - False\n",
      "72 conv3_block4_1_bn - False\n",
      "73 conv3_block4_1_relu - False\n",
      "74 conv3_block4_2_conv - False\n",
      "75 conv3_block4_2_bn - False\n",
      "76 conv3_block4_2_relu - False\n",
      "77 conv3_block4_3_conv - False\n",
      "78 conv3_block4_3_bn - False\n",
      "79 conv3_block4_add - False\n",
      "80 conv3_block4_out - False\n",
      "81 conv4_block1_1_conv - False\n",
      "82 conv4_block1_1_bn - False\n",
      "83 conv4_block1_1_relu - False\n",
      "84 conv4_block1_2_conv - False\n",
      "85 conv4_block1_2_bn - False\n",
      "86 conv4_block1_2_relu - False\n",
      "87 conv4_block1_0_conv - False\n",
      "88 conv4_block1_3_conv - False\n",
      "89 conv4_block1_0_bn - False\n",
      "90 conv4_block1_3_bn - False\n",
      "91 conv4_block1_add - False\n",
      "92 conv4_block1_out - False\n",
      "93 conv4_block2_1_conv - False\n",
      "94 conv4_block2_1_bn - False\n",
      "95 conv4_block2_1_relu - False\n",
      "96 conv4_block2_2_conv - False\n",
      "97 conv4_block2_2_bn - False\n",
      "98 conv4_block2_2_relu - False\n",
      "99 conv4_block2_3_conv - False\n",
      "100 conv4_block2_3_bn - False\n",
      "101 conv4_block2_add - False\n",
      "102 conv4_block2_out - False\n",
      "103 conv4_block3_1_conv - False\n",
      "104 conv4_block3_1_bn - False\n",
      "105 conv4_block3_1_relu - False\n",
      "106 conv4_block3_2_conv - False\n",
      "107 conv4_block3_2_bn - False\n",
      "108 conv4_block3_2_relu - False\n",
      "109 conv4_block3_3_conv - False\n",
      "110 conv4_block3_3_bn - False\n",
      "111 conv4_block3_add - False\n",
      "112 conv4_block3_out - False\n",
      "113 conv4_block4_1_conv - False\n",
      "114 conv4_block4_1_bn - False\n",
      "115 conv4_block4_1_relu - False\n",
      "116 conv4_block4_2_conv - False\n",
      "117 conv4_block4_2_bn - False\n",
      "118 conv4_block4_2_relu - False\n",
      "119 conv4_block4_3_conv - False\n",
      "120 conv4_block4_3_bn - False\n",
      "121 conv4_block4_add - False\n",
      "122 conv4_block4_out - False\n",
      "123 conv4_block5_1_conv - False\n",
      "124 conv4_block5_1_bn - False\n",
      "125 conv4_block5_1_relu - False\n",
      "126 conv4_block5_2_conv - False\n",
      "127 conv4_block5_2_bn - False\n",
      "128 conv4_block5_2_relu - False\n",
      "129 conv4_block5_3_conv - False\n",
      "130 conv4_block5_3_bn - False\n",
      "131 conv4_block5_add - False\n",
      "132 conv4_block5_out - False\n",
      "133 conv4_block6_1_conv - False\n",
      "134 conv4_block6_1_bn - False\n",
      "135 conv4_block6_1_relu - False\n",
      "136 conv4_block6_2_conv - False\n",
      "137 conv4_block6_2_bn - False\n",
      "138 conv4_block6_2_relu - False\n",
      "139 conv4_block6_3_conv - False\n",
      "140 conv4_block6_3_bn - False\n",
      "141 conv4_block6_add - False\n",
      "142 conv4_block6_out - False\n",
      "143 conv5_block1_1_conv - False\n",
      "144 conv5_block1_1_bn - False\n",
      "145 conv5_block1_1_relu - False\n",
      "146 conv5_block1_2_conv - False\n",
      "147 conv5_block1_2_bn - False\n",
      "148 conv5_block1_2_relu - False\n",
      "149 conv5_block1_0_conv - False\n",
      "150 conv5_block1_3_conv - False\n",
      "151 conv5_block1_0_bn - False\n",
      "152 conv5_block1_3_bn - False\n",
      "153 conv5_block1_add - False\n",
      "154 conv5_block1_out - False\n",
      "155 conv5_block2_1_conv - False\n",
      "156 conv5_block2_1_bn - False\n",
      "157 conv5_block2_1_relu - False\n",
      "158 conv5_block2_2_conv - False\n",
      "159 conv5_block2_2_bn - False\n",
      "160 conv5_block2_2_relu - False\n",
      "161 conv5_block2_3_conv - True\n",
      "162 conv5_block2_3_bn - True\n",
      "163 conv5_block2_add - True\n",
      "164 conv5_block2_out - True\n",
      "165 conv5_block3_1_conv - True\n",
      "166 conv5_block3_1_bn - True\n",
      "167 conv5_block3_1_relu - True\n",
      "168 conv5_block3_2_conv - True\n",
      "169 conv5_block3_2_bn - True\n",
      "170 conv5_block3_2_relu - True\n",
      "171 conv5_block3_3_conv - True\n",
      "172 conv5_block3_3_bn - True\n",
      "173 conv5_block3_add - True\n",
      "174 conv5_block3_out - True\n",
      "175 avg_pool - True\n"
     ]
    }
   ],
   "source": [
    "for i, layer in enumerate(ResNet50.layers):\n",
    "    print(i, layer.name, \"-\", layer.trainable)"
   ]
  },
  {
   "cell_type": "code",
   "execution_count": 32,
   "id": "0a96ae2c",
   "metadata": {},
   "outputs": [
    {
     "name": "stdout",
     "output_type": "stream",
     "text": [
      "Model: \"sequential_2\"\n",
      "_________________________________________________________________\n",
      " Layer (type)                Output Shape              Param #   \n",
      "=================================================================\n",
      " resnet50 (Functional)       (None, 2048)              23587712  \n",
      "                                                                 \n",
      " dropout_4 (Dropout)         (None, 2048)              0         \n",
      "                                                                 \n",
      " flatten_2 (Flatten)         (None, 2048)              0         \n",
      "                                                                 \n",
      " dense_4 (Dense)             (None, 512)               1049088   \n",
      "                                                                 \n",
      " activation_6 (Activation)   (None, 512)               0         \n",
      "                                                                 \n",
      " dropout_5 (Dropout)         (None, 512)               0         \n",
      "                                                                 \n",
      " dense_5 (Dense)             (None, 4)                 2052      \n",
      "                                                                 \n",
      " activation_7 (Activation)   (None, 4)                 0         \n",
      "                                                                 \n",
      "=================================================================\n",
      "Total params: 24,638,852\n",
      "Trainable params: 1,051,140\n",
      "Non-trainable params: 23,587,712\n",
      "_________________________________________________________________\n"
     ]
    }
   ],
   "source": [
    "comb_model1 = Sequential()\n",
    "comb_model1.add(ResNet50)\n",
    "\n",
    "comb_model1.add(Dropout(0.25))\n",
    "comb_model1.add(Flatten())\n",
    "comb_model1.add(Dense(512))\n",
    "comb_model1.add(Activation('relu'))\n",
    "comb_model1.add(Dropout(0.5))\n",
    "comb_model1.add(Dense(num_class))\n",
    "comb_model1.add(Activation('softmax'))\n",
    "\n",
    "\n",
    "comb_model1.summary()"
   ]
  },
  {
   "cell_type": "code",
   "execution_count": 33,
   "id": "0822a2a2",
   "metadata": {},
   "outputs": [],
   "source": [
    "comb_model1.compile(optimizer='adam', loss='categorical_crossentropy', metrics=['accuracy'])"
   ]
  },
  {
   "cell_type": "code",
   "execution_count": 34,
   "id": "44906a42",
   "metadata": {},
   "outputs": [
    {
     "name": "stdout",
     "output_type": "stream",
     "text": [
      "Epoch 1/15\n",
      "4/4 [==============================] - 5s 737ms/step - loss: 2.4371 - accuracy: 0.4141 - val_loss: 1.1817 - val_accuracy: 0.4444\n",
      "Epoch 2/15\n",
      "4/4 [==============================] - 2s 436ms/step - loss: 1.4585 - accuracy: 0.5312 - val_loss: 1.4782 - val_accuracy: 0.4583\n",
      "Epoch 3/15\n",
      "4/4 [==============================] - 2s 437ms/step - loss: 1.1255 - accuracy: 0.5859 - val_loss: 1.1353 - val_accuracy: 0.4722\n",
      "Epoch 4/15\n",
      "4/4 [==============================] - 2s 442ms/step - loss: 0.9579 - accuracy: 0.7031 - val_loss: 1.2972 - val_accuracy: 0.4167\n",
      "Epoch 5/15\n",
      "4/4 [==============================] - 2s 437ms/step - loss: 0.7312 - accuracy: 0.6953 - val_loss: 1.6322 - val_accuracy: 0.4444\n",
      "Epoch 6/15\n",
      "4/4 [==============================] - 2s 437ms/step - loss: 0.5938 - accuracy: 0.7109 - val_loss: 1.2095 - val_accuracy: 0.3889\n",
      "Epoch 7/15\n",
      "4/4 [==============================] - 2s 441ms/step - loss: 0.4222 - accuracy: 0.8359 - val_loss: 1.2748 - val_accuracy: 0.5278\n",
      "Epoch 8/15\n",
      "4/4 [==============================] - 2s 437ms/step - loss: 0.4095 - accuracy: 0.8203 - val_loss: 1.4440 - val_accuracy: 0.5139\n",
      "Epoch 9/15\n",
      "4/4 [==============================] - 2s 442ms/step - loss: 0.4064 - accuracy: 0.8594 - val_loss: 1.2899 - val_accuracy: 0.5000\n",
      "Epoch 10/15\n",
      "4/4 [==============================] - 2s 442ms/step - loss: 0.2885 - accuracy: 0.9141 - val_loss: 1.4030 - val_accuracy: 0.4444\n",
      "Epoch 11/15\n",
      "4/4 [==============================] - 2s 437ms/step - loss: 0.3374 - accuracy: 0.8672 - val_loss: 1.9885 - val_accuracy: 0.4444\n",
      "Epoch 12/15\n",
      "4/4 [==============================] - 2s 437ms/step - loss: 0.3148 - accuracy: 0.8438 - val_loss: 1.5659 - val_accuracy: 0.5000\n",
      "Epoch 13/15\n",
      "4/4 [==============================] - 2s 437ms/step - loss: 0.2177 - accuracy: 0.9219 - val_loss: 1.4468 - val_accuracy: 0.4583\n",
      "Epoch 14/15\n",
      "4/4 [==============================] - 2s 436ms/step - loss: 0.3160 - accuracy: 0.9062 - val_loss: 1.8712 - val_accuracy: 0.4583\n",
      "Epoch 15/15\n",
      "4/4 [==============================] - 2s 436ms/step - loss: 0.2291 - accuracy: 0.9062 - val_loss: 1.4434 - val_accuracy: 0.4583\n"
     ]
    },
    {
     "data": {
      "text/plain": [
       "<keras.callbacks.History at 0x22f7eaa9eb0>"
      ]
     },
     "execution_count": 34,
     "metadata": {},
     "output_type": "execute_result"
    }
   ],
   "source": [
    "comb_model1.fit(x_train,y_train, epochs =15, validation_data=(x_val,y_val),shuffle= True)"
   ]
  },
  {
   "cell_type": "code",
   "execution_count": 35,
   "id": "46174356",
   "metadata": {},
   "outputs": [
    {
     "name": "stdout",
     "output_type": "stream",
     "text": [
      "4/4 [==============================] - 2s 237ms/step\n"
     ]
    }
   ],
   "source": [
    "predict_x_comb1=comb_model1.predict(x_test)"
   ]
  },
  {
   "cell_type": "code",
   "execution_count": 36,
   "id": "9517c3cc",
   "metadata": {},
   "outputs": [
    {
     "data": {
      "text/plain": [
       "array([0, 0, 0, 0, 0, 0, 0, 0, 0, 0, 3, 0, 0, 0, 0, 0, 0, 0, 3, 2, 0, 0,\n",
       "       2, 0, 2, 2, 0, 0, 0, 3, 0, 2, 0, 0, 3, 2, 0, 0, 0, 0, 0, 0, 0, 0,\n",
       "       0, 2, 2, 0, 0, 0, 0, 0, 0, 0, 0, 0, 0, 0, 1, 0, 0, 0, 0, 2, 0, 0,\n",
       "       0, 0, 2, 0, 0, 2, 2, 0, 3, 0, 2, 0, 0, 0, 0, 0, 2, 3, 0, 3, 0, 3,\n",
       "       0, 3, 0, 0, 0, 0, 0, 0, 0, 2, 0, 2, 0, 0, 0, 2, 0, 0, 1, 3, 0, 0,\n",
       "       0, 3, 0, 2, 0, 0, 0, 2, 0, 0, 2, 0, 2, 3, 0, 0, 2, 3], dtype=int64)"
      ]
     },
     "execution_count": 36,
     "metadata": {},
     "output_type": "execute_result"
    }
   ],
   "source": [
    "classes_x_comb1=np.argmax(predict_x_comb1,axis=1)\n",
    "classes_x_comb1"
   ]
  },
  {
   "cell_type": "code",
   "execution_count": 37,
   "id": "f7b4e653",
   "metadata": {},
   "outputs": [],
   "source": [
    "y_true2= np.argmax(y_test,axis=1)"
   ]
  },
  {
   "cell_type": "code",
   "execution_count": 38,
   "id": "699e3b66",
   "metadata": {},
   "outputs": [
    {
     "data": {
      "text/plain": [
       "0.578125"
      ]
     },
     "execution_count": 38,
     "metadata": {},
     "output_type": "execute_result"
    }
   ],
   "source": [
    "accuracy_score (np.argmax(y_test,axis=1),classes_x_comb1)"
   ]
  },
  {
   "cell_type": "code",
   "execution_count": 39,
   "id": "842a1c43",
   "metadata": {},
   "outputs": [
    {
     "data": {
      "image/png": "[encoded data removed]",
      "text/plain": [
       "<Figure size 600x600 with 2 Axes>"
      ]
     },
     "metadata": {},
     "output_type": "display_data"
    }
   ],
   "source": [
    "\n",
    "cm= confusion_matrix(y_true2, classes_x_comb1)\n",
    "fig, ax = plt.subplots(figsize=(6,6))  \n",
    "ax.set(title = \"Confusion Matrix\")\n",
    "sns.heatmap(cm,annot =True,ax=ax, annot_kws={\"size\":20,\"weight\":\"bold\"})\n",
    "labels=[\"adeno\",\"largecell\",\"normal\",\"squamous\"]\n",
    "ax.set_xticklabels(labels,fontsize =15);\n",
    "ax.set_yticklabels(labels,fontsize =15);\n",
    "ax.set_ylabel('Ground Truth',fontsize =22);\n",
    "ax.set_xlabel('Prediction',fontsize =22);"
   ]
  },
  {
   "cell_type": "code",
   "execution_count": null,
   "id": "a0f3fd8b",
   "metadata": {},
   "outputs": [],
   "source": [
    "Potential normal "
   ]
  },
  {
   "cell_type": "code",
   "execution_count": null,
   "id": "626ce47a",
   "metadata": {},
   "outputs": [],
   "source": []
  }
 ],
 "metadata": {
  "kernelspec": {
   "display_name": "Python 3 (ipykernel)",
   "language": "python",
   "name": "python3"
  },
  "language_info": {
   "codemirror_mode": {
    "name": "ipython",
    "version": 3
   },
   "file_extension": ".py",
   "mimetype": "text/x-python",
   "name": "python",
   "nbconvert_exporter": "python",
   "pygments_lexer": "ipython3",
   "version": "3.9.13"
  }
 },
 "nbformat": 4,
 "nbformat_minor": 5
}
